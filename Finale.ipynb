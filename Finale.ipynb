{
 "cells": [
  {
   "cell_type": "markdown",
   "id": "8c9efea4",
   "metadata": {},
   "source": [
    "# Nonogram Picture to Standard Form Output"
   ]
  },
  {
   "cell_type": "code",
   "execution_count": 1,
   "id": "fd90ca61",
   "metadata": {},
   "outputs": [],
   "source": [
    "import cv2\n",
    "import numpy as np\n",
    "import pytesseract"
   ]
  },
  {
   "cell_type": "markdown",
   "id": "06c12f46",
   "metadata": {},
   "source": [
    "## Test Variables"
   ]
  },
  {
   "cell_type": "code",
   "execution_count": 2,
   "id": "2ec3e912",
   "metadata": {},
   "outputs": [],
   "source": [
    "img_for_box_extraction_path = \"TestNonograms/Example4.png\"\n",
    "pytesseract.pytesseract.tesseract_cmd = r'#Insert your directory of Pytesseract here. To find look in the readme.md'"
   ]
  },
  {
   "cell_type": "code",
   "execution_count": 3,
   "id": "74652ad1",
   "metadata": {},
   "outputs": [],
   "source": [
    "def createVerticalKernel(nonogram_image, ratio):\n",
    "    return cv2.getStructuringElement(cv2.MORPH_RECT, (1, nonogram_image.shape[1]//ratio))\n",
    "def createHorizontalKernel(nonogram_image, ratio):\n",
    "    return cv2.getStructuringElement(cv2.MORPH_RECT, (nonogram_image.shape[0]//ratio, 1))\n",
    "\n",
    "def isolateNonogram(nonogram_image):\n",
    "    contours, hierarchy = cv2.findContours(nonogram_image, cv2.RETR_TREE, cv2.CHAIN_APPROX_SIMPLE)\n",
    "\n",
    "    max_area = 0\n",
    "    for contour in contours:\n",
    "        \n",
    "        area = cv2.contourArea(contour)\n",
    "        peri = cv2.arcLength(contour, True)\n",
    "        vertices = cv2.approxPolyDP(contour, 0.02 * peri, True)\n",
    "        if area > max_area and len(vertices) == 4:\n",
    "            biggest = vertices\n",
    "            max_area = area\n",
    "    return biggest, max_area"
   ]
  },
  {
   "cell_type": "code",
   "execution_count": 4,
   "id": "c39273aa",
   "metadata": {},
   "outputs": [
    {
     "name": "stdout",
     "output_type": "stream",
     "text": [
      "[[1], [3], [1, 1, 1], [1], [4], [6, 3], [8, 2], [2, 8, 3], [13], [11], [13]]\n",
      "[[1], [3, 1], [2, 3], [1, 7], [1, 7], [11], [1, 7], [1, 6], [5], [4], [4], [3], [4], [2, 1], [3], [2], [1]]\n"
     ]
    },
    {
     "data": {
      "text/plain": [
       "-1"
      ]
     },
     "execution_count": 4,
     "metadata": {},
     "output_type": "execute_result"
    }
   ],
   "source": [
    "img = cv2.imread(img_for_box_extraction_path)\n",
    "# Thresholding the image\n",
    "imgGray = cv2.cvtColor(img, cv2.COLOR_RGB2GRAY)\n",
    "img_bin = cv2.adaptiveThreshold(imgGray,255,cv2.ADAPTIVE_THRESH_MEAN_C,cv2.THRESH_BINARY,11,2)\n",
    "img_bin = 255- img_bin \n",
    "\n",
    "\n",
    "\n",
    "# Create Kernels and apply them to isolate vertical and horizontal lines\n",
    "kernel = createVerticalKernel(img_bin, 80)\n",
    "vertical_lines = cv2.morphologyEx(img_bin, cv2.MORPH_OPEN, kernel)\n",
    "\n",
    "kernel = createHorizontalKernel(img_bin, 80)\n",
    "horizontal_lines = cv2.morphologyEx(img_bin, cv2.MORPH_OPEN, kernel)\n",
    "\n",
    "# Combine horizontal and vertical lines to find the nonogram area\n",
    "# Weighting parameters, this will decide the quantity of an image to be added to make a new image.\n",
    "alpha = 0.5\n",
    "beta = 1.0 - alpha\n",
    "# This function helps to add two image with specific weight parameter to get a third image as summation of two image.\n",
    "img_final_bin = cv2.addWeighted(vertical_lines, alpha, horizontal_lines, beta, 0.0)\n",
    "#img_final_bin = cv2.erode(~img_final_bin, kernel, iterations=2)\n",
    "(thresh, img_final_bin) = cv2.threshold(img_final_bin, 128,255, cv2.THRESH_BINARY | cv2.THRESH_OTSU)\n",
    "\n",
    "# Isolate the largest quadralaterel found, assumed to be the nonogram.\n",
    "biggest, max_area = isolateNonogram(img_final_bin)\n",
    "x,y,w,h = cv2.boundingRect(biggest)\n",
    "isolated_bin_img = imgGray[y:y+h,x:x+w]\n",
    "isolated_img = img[y:y+h,x:x+w]\n",
    "isolated_gray_img = imgGray[y:y+h,x:x+w]\n",
    "\n",
    "\n",
    "# Isolate cells with a certain gray that indicates digits.\n",
    "numberCell = cv2.inRange(isolated_img, (208,208,208), (208,208,208))\n",
    "# Find the square contour of the box\n",
    "cnts, _ = cv2.findContours(numberCell, cv2.RETR_EXTERNAL, cv2.CHAIN_APPROX_SIMPLE)\n",
    "\n",
    "# Assuming they are in order right to left top to bottom\n",
    "# MF it literally goes right to left bottom to top :DDDD imagine!\n",
    "# We save the x coord of first image and \n",
    "\n",
    "# Since starts bottom right we know this is furtherst right a num can be without being top!\n",
    "# Means if x goes higher than this becomes a top row item!\n",
    "max_x_without_being_top,_,_,_ = cv2.boundingRect(cnts[0])\n",
    "horizontal_dictionary = {}\n",
    "vertical_dictionary   = {}\n",
    "# We need to keep track of last x and last y \n",
    "last_y = -2\n",
    "# We should keep a boolean for if we have switched from horizontal to vertical yet.\n",
    "switch_to_vertical_strip_yet = False\n",
    "# Binarise the text?\n",
    "img_bin_bin = cv2.adaptiveThreshold(isolated_bin_img,255,cv2.ADAPTIVE_THRESH_MEAN_C,cv2.THRESH_BINARY,11,2)\n",
    "for c in cnts:\n",
    "    x,y,w,h = cv2.boundingRect(c)\n",
    "    \n",
    "    number = img_bin_bin[y:y+h,x:x+w]\n",
    "    # Need to up the resolution of the number becasue pytesseract misclassifies at lower\n",
    "    number = cv2.pyrUp(number)\n",
    "    number = cv2.pyrUp(number)\n",
    "    # Scan box for the number store as \"data\"\n",
    "    data = pytesseract.image_to_string(number, lang=\"eng\", config='--psm 13 --oem 3 -c tessedit_char_whitelist=0123456789')\n",
    "    \n",
    "    \n",
    "    if switch_to_vertical_strip_yet or max_x_without_being_top < x:\n",
    "        switch_to_vertical_strip_yet = True\n",
    "        # We are a vertical gang so act like it.\n",
    "        dictionary_storage = vertical_dictionary.get(x)\n",
    "        if dictionary_storage is not None:\n",
    "            vertical_dictionary[x].append(int(data))\n",
    "        else:\n",
    "            vertical_dictionary[x] = [int(data)]\n",
    "    else:\n",
    "        # Still on horizontal.\n",
    "        # Check not a different row from last\n",
    "        if last_y == y:\n",
    "            # Not the first, add to the dictionary.\n",
    "            horizontal_dictionary[y].append(int(data))\n",
    "        else:\n",
    "            horizontal_dictionary[y] = [int(data)]\n",
    "            last_y = y\n",
    "            \n",
    "            \n",
    "            \n",
    "# Ok now we have to dictionaries filled with values\n",
    "# We just need to reverse them! and plop them out!\n",
    "# Horizontal clues first\n",
    "horizontal_locations = list(horizontal_dictionary.keys())\n",
    "horizontal_locations.sort()\n",
    "horizontal_clues = []\n",
    "for location in horizontal_locations:\n",
    "    horizontal_dictionary[location].reverse()\n",
    "    horizontal_clues.append(horizontal_dictionary[location])\n",
    "\n",
    "# Same for vertical!\n",
    "vertical_locations = list(vertical_dictionary.keys())\n",
    "vertical_locations.sort()\n",
    "vertical_clues = []\n",
    "for location in vertical_locations:\n",
    "    vertical_dictionary[location].reverse()\n",
    "    vertical_clues.append(vertical_dictionary[location])\n",
    "\n",
    "\n",
    "print(horizontal_clues)\n",
    "print(vertical_clues)\n",
    "\n",
    "\n",
    "cv2.drawContours(isolated_img, cnts, -1, (0,255,0))\n",
    "cv2.imwrite(\"example_with_bounding_boxes.jpg\", isolated_img)\n",
    "\n",
    "\n",
    "\n",
    "\n",
    "cv2.imshow('Isolated', isolated_img)\n",
    "cv2.waitKey()"
   ]
  }
 ],
 "metadata": {
  "kernelspec": {
   "display_name": "Python 3 (ipykernel)",
   "language": "python",
   "name": "python3"
  },
  "language_info": {
   "codemirror_mode": {
    "name": "ipython",
    "version": 3
   },
   "file_extension": ".py",
   "mimetype": "text/x-python",
   "name": "python",
   "nbconvert_exporter": "python",
   "pygments_lexer": "ipython3",
   "version": "3.9.16"
  }
 },
 "nbformat": 4,
 "nbformat_minor": 5
}
